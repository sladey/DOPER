{
 "cells": [
  {
   "cell_type": "markdown",
   "metadata": {},
   "source": [
    "# Example of DOPER - EV Fleet"
   ]
  },
  {
   "cell_type": "markdown",
   "metadata": {},
   "source": [
    "### This examples demonstrates the DOPER framework for a three EV fleet with about 150 kW building base load and 100 kW Photovoltaic (PV) generation."
   ]
  },
  {
   "cell_type": "code",
   "execution_count": 1,
   "metadata": {},
   "outputs": [],
   "source": [
    "import os\n",
    "import sys\n",
    "import pandas as pd\n",
    "import matplotlib.pyplot as plt\n",
    "from pprint import pprint\n",
    "from pandas.plotting import register_matplotlib_converters\n",
    "register_matplotlib_converters()\n",
    "%matplotlib inline\n",
    "\n",
    "# from IPython.display import HTML\n",
    "# HTML('''<script>\n",
    "# code_show=true; \n",
    "# function code_toggle() {\n",
    "#  if (code_show){\n",
    "#  $('div.input').hide();\n",
    "#  } else {\n",
    "#  $('div.input').show();\n",
    "#  }\n",
    "#  code_show = !code_show\n",
    "# } \n",
    "# $( document ).ready(code_toggle);\n",
    "# </script>\n",
    "# <form action=\"javascript:code_toggle()\">\n",
    "# <input type=\"submit\" value=\"Click here to toggle on/off the raw code.\"></form>\n",
    "# ''')\n"
   ]
  },
  {
   "cell_type": "markdown",
   "metadata": {},
   "source": [
    "### Import DOPER modules"
   ]
  },
  {
   "cell_type": "markdown",
   "metadata": {},
   "source": [
    "DOPER consists of several modules which are imported here."
   ]
  },
  {
   "cell_type": "code",
   "execution_count": 2,
   "metadata": {},
   "outputs": [],
   "source": [
    "from doper import DOPER, get_solver, get_root, standard_report\n",
    "from doper.models.basemodel import base_model\n",
    "from doper.models.battery import add_battery\n",
    "from doper.examples import parameter_add_evfleet, parameter_add_battery, ts_inputs, test_default_parameter, ts_input_ev_home_usage, parameter_home\n",
    "from doper.plotting import plot_dynamic"
   ]
  },
  {
   "cell_type": "markdown",
   "metadata": {},
   "source": [
    "### Setup Optimization Model"
   ]
  },
  {
   "cell_type": "markdown",
   "metadata": {},
   "source": [
    "DOPER passes the inputs as first arguments and parameter as second argument to the optimization model (control_model). In this example two models are loaded:\n",
    "* the \"base_model\" with energy balance of on-site generation, e.g. Photovoltaic, and demand, e.g. building base laod\n",
    "* the \"add_battery\" model which adds individual batteries or electric vehicles, as defined by the input parameters\n",
    "\n",
    "An objective function is defined as the sum of energy and demand cost, eventual revenue from exporting energy, and from frequency regulation. The weighting between the objectives is again defined within the parameters of the model."
   ]
  },
  {
   "cell_type": "code",
   "execution_count": 3,
   "metadata": {},
   "outputs": [],
   "source": [
    "from pyomo.environ import Objective, minimize\n",
    "\n",
    "def control_model(inputs, parameter):\n",
    "    model = base_model(inputs, parameter)\n",
    "    model = add_battery(model, inputs, parameter)\n",
    "    \n",
    "    def objective_function(model):\n",
    "        return model.sum_energy_cost * parameter['objective']['weight_energy'] \\\n",
    "               + model.sum_demand_cost * parameter['objective']['weight_demand'] \\\n",
    "               + model.sum_export_revenue * parameter['objective']['weight_export']\n",
    "              \n",
    "    model.objective = Objective(rule=objective_function, sense=minimize, doc='objective function')\n",
    "    return model"
   ]
  },
  {
   "cell_type": "markdown",
   "metadata": {},
   "source": [
    "### Load Example Parameter"
   ]
  },
  {
   "cell_type": "markdown",
   "metadata": {},
   "source": [
    "The \"parameter\" dictinoary object includes all parameters of the optimization model. The high-level categories are:\n",
    "* Battery: parameter of all batteries in the model. This includes number of batteries, initial and final State of Charge, power, capacity, etc.\n",
    "* Controller: selection of controller options such as model timestep, optimization horizon, etc.\n",
    "* Objective: weighting of the multiple objectives\n",
    "* Site: specifications of the site such as timezone, import and export power limits, customer type, etc.\n",
    "* Tariff: electricity tariff specified as time-of-use with any number of periods"
   ]
  },
  {
   "cell_type": "code",
   "execution_count": 4,
   "metadata": {},
   "outputs": [
    {
     "name": "stdout",
     "output_type": "stream",
     "text": [
      "parameter 'system' object:\n",
      "{'battery': True,\n",
      " 'external_gen': False,\n",
      " 'genset': False,\n",
      " 'hvac_control': False,\n",
      " 'load_control': False,\n",
      " 'pv': True,\n",
      " 'reg_bidding': False,\n",
      " 'reg_response': False}\n",
      "\n",
      "parameter 'batteries' object:\n",
      "[{'capacity': 14,\n",
      "  'degradation_endoflife': 80,\n",
      "  'degradation_replacementcost': 10000,\n",
      "  'efficiency_charging': 0.96,\n",
      "  'efficiency_discharging': 0.96,\n",
      "  'maxS': 5,\n",
      "  'name': 'pw2-1',\n",
      "  'nominal_V': 230,\n",
      "  'power_charge': 5,\n",
      "  'power_discharge': 5,\n",
      "  'self_discharging': 0.0,\n",
      "  'soc_final': 0.1,\n",
      "  'soc_initial': 0.9,\n",
      "  'soc_max': 1,\n",
      "  'soc_min': 0.1,\n",
      "  'thermal_C': 100000.0,\n",
      "  'thermal_R': 0.01},\n",
      " {'capacity': 14,\n",
      "  'degradation_endoflife': 80,\n",
      "  'degradation_replacementcost': 10000,\n",
      "  'efficiency_charging': 0.96,\n",
      "  'efficiency_discharging': 0.96,\n",
      "  'maxS': 5,\n",
      "  'name': 'pw2-2',\n",
      "  'nominal_V': 230,\n",
      "  'power_charge': 5,\n",
      "  'power_discharge': 5,\n",
      "  'self_discharging': 0.0,\n",
      "  'soc_final': 0.1,\n",
      "  'soc_initial': 0.9,\n",
      "  'soc_max': 1,\n",
      "  'soc_min': 0.1,\n",
      "  'thermal_C': 100000.0,\n",
      "  'thermal_R': 0.01},\n",
      " {'capacity': 100,\n",
      "  'efficiency_charging': 0.96,\n",
      "  'efficiency_discharging': 0.96,\n",
      "  'maxS': 15,\n",
      "  'name': 'Tesla',\n",
      "  'power_charge': 21,\n",
      "  'power_discharge': 15,\n",
      "  'self_discharging': 0.003,\n",
      "  'soc_initial': 0.75,\n",
      "  'soc_max': 1,\n",
      "  'soc_min': 0.05}]\n",
      "\n"
     ]
    }
   ],
   "source": [
    "parameter = parameter_home()\n",
    "\n",
    "parameter = parameter_add_battery(parameter, 'PW2', 'pw2-1')\n",
    "parameter = parameter_add_battery(parameter, 'PW2', 'pw2-2')\n",
    "parameter = parameter_add_evfleet(parameter, 'Tesla')\n",
    "\n",
    "print(\"parameter 'system' object:\")\n",
    "pprint(parameter['system'])\n",
    "print('')\n",
    "\n",
    "print(\"parameter 'batteries' object:\")\n",
    "pprint(parameter['batteries'])\n",
    "print('')"
   ]
  },
  {
   "cell_type": "markdown",
   "metadata": {},
   "source": [
    "### Load Example Data"
   ]
  },
  {
   "cell_type": "markdown",
   "metadata": {},
   "source": [
    "The input data in this example is chosen to represent a medium-sized office building with rooftop photovoltaic system and three electric vehicles."
   ]
  },
  {
   "cell_type": "code",
   "execution_count": 6,
   "metadata": {},
   "outputs": [
    {
     "ename": "AttributeError",
     "evalue": "'dict' object has no attribute 'name'",
     "output_type": "error",
     "traceback": [
      "\u001b[0;31m---------------------------------------------------------------------------\u001b[0m",
      "\u001b[0;31mAttributeError\u001b[0m                            Traceback (most recent call last)",
      "Cell \u001b[0;32mIn[6], line 2\u001b[0m\n\u001b[1;32m      1\u001b[0m data \u001b[39m=\u001b[39m ts_inputs(parameter, load\u001b[39m=\u001b[39m\u001b[39m'\u001b[39m\u001b[39mHome\u001b[39m\u001b[39m'\u001b[39m, scale_load\u001b[39m=\u001b[39m\u001b[39m10\u001b[39m, scale_pv\u001b[39m=\u001b[39m\u001b[39m15\u001b[39m)\n\u001b[0;32m----> 2\u001b[0m data \u001b[39m=\u001b[39m ts_input_ev_home_usage(parameter, data)\n",
      "File \u001b[0;32m/Library/Frameworks/Python.framework/Versions/3.10/lib/python3.10/site-packages/doper/examples/example.py:1485\u001b[0m, in \u001b[0;36mts_input_ev_home_usage\u001b[0;34m(parameter, data)\u001b[0m\n\u001b[1;32m   1478\u001b[0m \u001b[39mdef\u001b[39;00m \u001b[39mts_input_ev_home_usage\u001b[39m(parameter, data):\n\u001b[1;32m   1479\u001b[0m     \u001b[39m# assume a single EV\u001b[39;00m\n\u001b[1;32m   1480\u001b[0m     \u001b[39m# assume 30km driven per day\u001b[39;00m\n\u001b[1;32m   1481\u001b[0m     \u001b[39m# assume 211 Wh/km for energy consumption = 6.3kWh per day usage\u001b[39;00m\n\u001b[1;32m   1482\u001b[0m     \u001b[39m# assume vehicle can be charged overnight and 2 hours in the middle of the day.\u001b[39;00m\n\u001b[1;32m   1483\u001b[0m     \u001b[39m# assume it is driven in the morning and the arvo\u001b[39;00m\n\u001b[1;32m   1484\u001b[0m     \u001b[39mfor\u001b[39;00m b \u001b[39min\u001b[39;00m \u001b[39mrange\u001b[39m(\u001b[39mlen\u001b[39m(parameter[\u001b[39m'\u001b[39m\u001b[39mbatteries\u001b[39m\u001b[39m'\u001b[39m])):\n\u001b[0;32m-> 1485\u001b[0m         \u001b[39mif\u001b[39;00m parameter[\u001b[39m'\u001b[39;49m\u001b[39mbatteries\u001b[39;49m\u001b[39m'\u001b[39;49m][b]\u001b[39m.\u001b[39;49mname \u001b[39m==\u001b[39m \u001b[39m'\u001b[39m\u001b[39mTesla\u001b[39m\u001b[39m'\u001b[39m:\n\u001b[1;32m   1486\u001b[0m             data[\u001b[39m'\u001b[39m\u001b[39mbattery_\u001b[39m\u001b[39m{!s}\u001b[39;00m\u001b[39m_avail\u001b[39m\u001b[39m'\u001b[39m\u001b[39m.\u001b[39mformat(b)] \u001b[39m=\u001b[39m \u001b[39m1\u001b[39m\n\u001b[1;32m   1487\u001b[0m             data[\u001b[39m'\u001b[39m\u001b[39mbattery_\u001b[39m\u001b[39m{!s}\u001b[39;00m\u001b[39m_avail\u001b[39m\u001b[39m'\u001b[39m\u001b[39m.\u001b[39mformat(b)] \u001b[39m=\u001b[39m data[\u001b[39m'\u001b[39m\u001b[39mbattery_\u001b[39m\u001b[39m{!s}\u001b[39;00m\u001b[39m_avail\u001b[39m\u001b[39m'\u001b[39m\u001b[39m.\u001b[39mformat(b)]\u001b[39m.\u001b[39mmask((data\u001b[39m.\u001b[39mindex\u001b[39m.\u001b[39mhour\u001b[39m>\u001b[39m\u001b[39m=\u001b[39m\u001b[39m7\u001b[39m) \u001b[39m&\u001b[39m (data\u001b[39m.\u001b[39mindex\u001b[39m.\u001b[39mhour\u001b[39m<\u001b[39m\u001b[39m11\u001b[39m), \u001b[39m0\u001b[39m)\n",
      "\u001b[0;31mAttributeError\u001b[0m: 'dict' object has no attribute 'name'"
     ]
    }
   ],
   "source": [
    "data = ts_inputs(parameter, load='Home', scale_load=10, scale_pv=15)\n",
    "\n",
    "\n",
    "data = ts_input_ev_home_usage(parameter, data)"
   ]
  },
  {
   "cell_type": "markdown",
   "metadata": {},
   "source": [
    "### Conduct Optimization"
   ]
  },
  {
   "cell_type": "markdown",
   "metadata": {},
   "source": [
    "In order to conduct the optimization, the DOPER object is initialized with the model, parameter, and the pyomo_to_pandas converter function. In the next step, the model is evaluated with the \"do_optimization\" class function. It takes the current inputs as input and returns a list of results.\n",
    "\n",
    "Note that DOPER is built for application as Model Predictive Control (MPC) where the optimization model is periodically, e.g. every five minutes, updated with the most recent inputs, and reevaluated. However, in this example, do_optimization is only executed once."
   ]
  },
  {
   "cell_type": "code",
   "execution_count": null,
   "metadata": {},
   "outputs": [
    {
     "name": "stdout",
     "output_type": "stream",
     "text": [
      "/opt/homebrew/bin/cbc\n",
      "Welcome to the CBC MILP Solver \n",
      "Version: 2.10.8 \n",
      "Build Date: May  7 2022 \n",
      "\n",
      "command line - /opt/homebrew/bin/cbc /var/folders/hr/t6w51s156_d5ynw1k98l7h_c0000gn/T/tmpkctcg09y.pyomo.nl -AMPL (default strategy 1)\n",
      "At line 1 g3 1 1 0\t# problem unknown\n",
      "Unknown image g3 1 1 0\t# problem unknown at line 1 of file /var/folders/hr/t6w51s156_d5ynw1k98l7h_c0000gn/T/tmpkctcg09y.pyomo.nl\n",
      "Coin0008I  read with -2 errors\n",
      "There were -2 errors on input\n",
      "No match for AMPL - ? for list of commands\n",
      "Total time (CPU seconds):       0.00   (Wallclock seconds):       0.00\n",
      "\n"
     ]
    },
    {
     "ename": "FileNotFoundError",
     "evalue": "[Errno 2] No such file or directory: '/var/folders/hr/t6w51s156_d5ynw1k98l7h_c0000gn/T/tmpkctcg09y.pyomo.sol'",
     "output_type": "error",
     "traceback": [
      "\u001b[0;31m---------------------------------------------------------------------------\u001b[0m",
      "\u001b[0;31mFileNotFoundError\u001b[0m                         Traceback (most recent call last)",
      "Cell \u001b[0;32mIn[19], line 10\u001b[0m\n\u001b[1;32m      5\u001b[0m smartDER \u001b[39m=\u001b[39m DOPER(model\u001b[39m=\u001b[39mcontrol_model,\n\u001b[1;32m      6\u001b[0m                  parameter\u001b[39m=\u001b[39mparameter,\n\u001b[1;32m      7\u001b[0m                  solver_path\u001b[39m=\u001b[39msolver_path)\n\u001b[1;32m      9\u001b[0m \u001b[39m# Conduct optimization\u001b[39;00m\n\u001b[0;32m---> 10\u001b[0m res \u001b[39m=\u001b[39m smartDER\u001b[39m.\u001b[39;49mdo_optimization(data, tee\u001b[39m=\u001b[39;49m\u001b[39mTrue\u001b[39;49;00m)\n\u001b[1;32m     12\u001b[0m \u001b[39m# Get results\u001b[39;00m\n\u001b[1;32m     13\u001b[0m duration, objective, df, model, result, termination, parameter \u001b[39m=\u001b[39m res\n",
      "File \u001b[0;32m/Library/Frameworks/Python.framework/Versions/3.10/lib/python3.10/site-packages/doper/wrapper.py:249\u001b[0m, in \u001b[0;36mDOPER.do_optimization\u001b[0;34m(self, data, parameter, tee, keepfiles, report_timing, options, print_error)\u001b[0m\n\u001b[1;32m    247\u001b[0m \u001b[39mfor\u001b[39;00m k \u001b[39min\u001b[39;00m options\u001b[39m.\u001b[39mkeys():\n\u001b[1;32m    248\u001b[0m     solver\u001b[39m.\u001b[39moptions[k] \u001b[39m=\u001b[39m options[k]\n\u001b[0;32m--> 249\u001b[0m result \u001b[39m=\u001b[39m solver\u001b[39m.\u001b[39;49msolve(\u001b[39mself\u001b[39;49m\u001b[39m.\u001b[39;49mmodel, load_solutions\u001b[39m=\u001b[39;49m\u001b[39mFalse\u001b[39;49;00m, tee\u001b[39m=\u001b[39;49mtee,\n\u001b[1;32m    250\u001b[0m                       keepfiles\u001b[39m=\u001b[39;49mkeepfiles, report_timing\u001b[39m=\u001b[39;49mreport_timing)\n\u001b[1;32m    251\u001b[0m termination \u001b[39m=\u001b[39m result\u001b[39m.\u001b[39msolver\u001b[39m.\u001b[39mtermination_condition\n\u001b[1;32m    252\u001b[0m \u001b[39mif\u001b[39;00m termination \u001b[39m==\u001b[39m TerminationCondition\u001b[39m.\u001b[39moptimal \u001b[39mand\u001b[39;00m \u001b[39m'\u001b[39m\u001b[39mcbc\u001b[39m\u001b[39m'\u001b[39m \u001b[39min\u001b[39;00m \u001b[39mstr\u001b[39m(result\u001b[39m.\u001b[39msolver)\u001b[39m.\u001b[39mlower() \u001b[39mand\u001b[39;00m \u001b[39mnot\u001b[39;00m \u001b[39m'\u001b[39m\u001b[39mobjective\u001b[39m\u001b[39m'\u001b[39m \u001b[39min\u001b[39;00m result\u001b[39m.\u001b[39msolver\u001b[39m.\u001b[39mmessage:\n",
      "File \u001b[0;32m/Library/Frameworks/Python.framework/Versions/3.10/lib/python3.10/site-packages/pyomo/opt/base/solvers.py:602\u001b[0m, in \u001b[0;36mOptSolver.solve\u001b[0;34m(self, *args, **kwds)\u001b[0m\n\u001b[1;32m    599\u001b[0m \u001b[39mif\u001b[39;00m \u001b[39mself\u001b[39m\u001b[39m.\u001b[39m_report_timing:\n\u001b[1;32m    600\u001b[0m     \u001b[39mprint\u001b[39m(\u001b[39m\"\u001b[39m\u001b[39m      \u001b[39m\u001b[39m%6.2f\u001b[39;00m\u001b[39m seconds required for solver\u001b[39m\u001b[39m\"\u001b[39m \u001b[39m%\u001b[39m (solve_completion_time \u001b[39m-\u001b[39m presolve_completion_time))\n\u001b[0;32m--> 602\u001b[0m result \u001b[39m=\u001b[39m \u001b[39mself\u001b[39;49m\u001b[39m.\u001b[39;49m_postsolve()\n\u001b[1;32m    603\u001b[0m result\u001b[39m.\u001b[39m_smap_id \u001b[39m=\u001b[39m \u001b[39mself\u001b[39m\u001b[39m.\u001b[39m_smap_id\n\u001b[1;32m    604\u001b[0m result\u001b[39m.\u001b[39m_smap \u001b[39m=\u001b[39m \u001b[39mNone\u001b[39;00m\n",
      "File \u001b[0;32m/Library/Frameworks/Python.framework/Versions/3.10/lib/python3.10/site-packages/pyomo/solvers/plugins/solvers/ASL.py:226\u001b[0m, in \u001b[0;36mASL._postsolve\u001b[0;34m(self)\u001b[0m\n\u001b[1;32m    224\u001b[0m \u001b[39m#\u001b[39;00m\n\u001b[1;32m    225\u001b[0m \u001b[39mself\u001b[39m\u001b[39m.\u001b[39m_instance \u001b[39m=\u001b[39m \u001b[39mNone\u001b[39;00m\n\u001b[0;32m--> 226\u001b[0m \u001b[39mreturn\u001b[39;00m SystemCallSolver\u001b[39m.\u001b[39;49m_postsolve(\u001b[39mself\u001b[39;49m)\n",
      "File \u001b[0;32m/Library/Frameworks/Python.framework/Versions/3.10/lib/python3.10/site-packages/pyomo/opt/solver/shellcmd.py:281\u001b[0m, in \u001b[0;36mSystemCallSolver._postsolve\u001b[0;34m(self)\u001b[0m\n\u001b[1;32m    278\u001b[0m results \u001b[39m=\u001b[39m \u001b[39mNone\u001b[39;00m\n\u001b[1;32m    280\u001b[0m \u001b[39mif\u001b[39;00m \u001b[39mself\u001b[39m\u001b[39m.\u001b[39m_results_format \u001b[39mis\u001b[39;00m \u001b[39mnot\u001b[39;00m \u001b[39mNone\u001b[39;00m:\n\u001b[0;32m--> 281\u001b[0m     results \u001b[39m=\u001b[39m \u001b[39mself\u001b[39;49m\u001b[39m.\u001b[39;49mprocess_output(\u001b[39mself\u001b[39;49m\u001b[39m.\u001b[39;49m_rc)\n\u001b[1;32m    282\u001b[0m     \u001b[39m#\u001b[39;00m\n\u001b[1;32m    283\u001b[0m     \u001b[39m# If keepfiles is true, then we pop the\u001b[39;00m\n\u001b[1;32m    284\u001b[0m     \u001b[39m# TempfileManager context while telling it to\u001b[39;00m\n\u001b[1;32m    285\u001b[0m     \u001b[39m# _not_ remove the files.\u001b[39;00m\n\u001b[1;32m    286\u001b[0m     \u001b[39m#\u001b[39;00m\n\u001b[1;32m    287\u001b[0m     \u001b[39mif\u001b[39;00m \u001b[39mnot\u001b[39;00m \u001b[39mself\u001b[39m\u001b[39m.\u001b[39m_keepfiles:\n\u001b[1;32m    288\u001b[0m         \u001b[39m# in some cases, the solution filename is\u001b[39;00m\n\u001b[1;32m    289\u001b[0m         \u001b[39m# not generated via the temp-file mechanism,\u001b[39;00m\n\u001b[1;32m    290\u001b[0m         \u001b[39m# instead being automatically derived from\u001b[39;00m\n\u001b[1;32m    291\u001b[0m         \u001b[39m# the input lp/nl filename. so, we may have\u001b[39;00m\n\u001b[1;32m    292\u001b[0m         \u001b[39m# to clean it up manually.\u001b[39;00m\n",
      "File \u001b[0;32m/Library/Frameworks/Python.framework/Versions/3.10/lib/python3.10/site-packages/pyomo/opt/solver/shellcmd.py:376\u001b[0m, in \u001b[0;36mSystemCallSolver.process_output\u001b[0;34m(self, rc)\u001b[0m\n\u001b[1;32m    371\u001b[0m     results \u001b[39m=\u001b[39m \u001b[39mself\u001b[39m\u001b[39m.\u001b[39m_results_reader(\u001b[39mself\u001b[39m\u001b[39m.\u001b[39m_results_file,\n\u001b[1;32m    372\u001b[0m                                    res\u001b[39m=\u001b[39mresults,\n\u001b[1;32m    373\u001b[0m                                    soln\u001b[39m=\u001b[39mresults\u001b[39m.\u001b[39msolution(\u001b[39m0\u001b[39m),\n\u001b[1;32m    374\u001b[0m                                    suffixes\u001b[39m=\u001b[39m\u001b[39mself\u001b[39m\u001b[39m.\u001b[39m_suffixes)\n\u001b[1;32m    375\u001b[0m \u001b[39melse\u001b[39;00m:\n\u001b[0;32m--> 376\u001b[0m     results \u001b[39m=\u001b[39m \u001b[39mself\u001b[39;49m\u001b[39m.\u001b[39;49m_results_reader(\u001b[39mself\u001b[39;49m\u001b[39m.\u001b[39;49m_results_file,\n\u001b[1;32m    377\u001b[0m                                    res\u001b[39m=\u001b[39;49mresults,\n\u001b[1;32m    378\u001b[0m                                    suffixes\u001b[39m=\u001b[39;49m\u001b[39mself\u001b[39;49m\u001b[39m.\u001b[39;49m_suffixes)\n\u001b[1;32m    379\u001b[0m results_reader_completion_time \u001b[39m=\u001b[39m time\u001b[39m.\u001b[39mtime()\n\u001b[1;32m    380\u001b[0m \u001b[39mif\u001b[39;00m \u001b[39mself\u001b[39m\u001b[39m.\u001b[39m_report_timing \u001b[39mis\u001b[39;00m \u001b[39mTrue\u001b[39;00m:\n",
      "File \u001b[0;32m/Library/Frameworks/Python.framework/Versions/3.10/lib/python3.10/site-packages/pyomo/opt/plugins/sol.py:43\u001b[0m, in \u001b[0;36mResultsReader_sol.__call__\u001b[0;34m(self, filename, res, soln, suffixes)\u001b[0m\n\u001b[1;32m     39\u001b[0m \u001b[39m\"\"\"\u001b[39;00m\n\u001b[1;32m     40\u001b[0m \u001b[39mParse a *.sol file\u001b[39;00m\n\u001b[1;32m     41\u001b[0m \u001b[39m\"\"\"\u001b[39;00m\n\u001b[1;32m     42\u001b[0m \u001b[39mtry\u001b[39;00m:\n\u001b[0;32m---> 43\u001b[0m     \u001b[39mwith\u001b[39;00m \u001b[39mopen\u001b[39;49m(filename,\u001b[39m\"\u001b[39;49m\u001b[39mr\u001b[39;49m\u001b[39m\"\u001b[39;49m) \u001b[39mas\u001b[39;00m f:\n\u001b[1;32m     44\u001b[0m         \u001b[39mreturn\u001b[39;00m \u001b[39mself\u001b[39m\u001b[39m.\u001b[39m_load(f, res, soln, suffixes)\n\u001b[1;32m     45\u001b[0m \u001b[39mexcept\u001b[39;00m \u001b[39mValueError\u001b[39;00m \u001b[39mas\u001b[39;00m e:\n",
      "\u001b[0;31mFileNotFoundError\u001b[0m: [Errno 2] No such file or directory: '/var/folders/hr/t6w51s156_d5ynw1k98l7h_c0000gn/T/tmpkctcg09y.pyomo.sol'"
     ]
    }
   ],
   "source": [
    "# Define the path to the solver executable\n",
    "solver_path = '/opt/homebrew/bin/cbc'\n",
    "print(solver_path)\n",
    "# Initialize DOPER\n",
    "smartDER = DOPER(model=control_model,\n",
    "                 parameter=parameter,\n",
    "                 solver_path=solver_path)\n",
    "\n",
    "# Conduct optimization\n",
    "# res = smartDER.do_optimization(data, tee=True)\n",
    "\n",
    "# Get results\n",
    "# duration, objective, df, model, result, termination, parameter = res\n",
    "# print(standard_report(res))"
   ]
  },
  {
   "cell_type": "markdown",
   "metadata": {},
   "source": [
    "### Result for Site"
   ]
  },
  {
   "cell_type": "code",
   "execution_count": null,
   "metadata": {},
   "outputs": [],
   "source": [
    "plotData = plot_dynamic(df, parameter, plotFile = None, plot_reg=False)"
   ]
  }
 ],
 "metadata": {
  "kernelspec": {
   "display_name": "Python 3",
   "language": "python",
   "name": "python3"
  },
  "language_info": {
   "codemirror_mode": {
    "name": "ipython",
    "version": 3
   },
   "file_extension": ".py",
   "mimetype": "text/x-python",
   "name": "python",
   "nbconvert_exporter": "python",
   "pygments_lexer": "ipython3",
   "version": "3.10.9"
  },
  "vscode": {
   "interpreter": {
    "hash": "aee8b7b246df8f9039afb4144a1f6fd8d2ca17a180786b69acc140d282b71a49"
   }
  }
 },
 "nbformat": 4,
 "nbformat_minor": 2
}
